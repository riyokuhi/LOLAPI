{
 "cells": [
  {
   "cell_type": "code",
   "execution_count": null,
   "metadata": {},
   "outputs": [],
   "source": [
    "from riotwatcher import RiotWatcher, ApiError\n",
    "\n",
    "watcher = RiotWatcher('RGAPI-5cf88c6e-79a4-4093-aea7-58dbbdc177ad')\n",
    "\n",
    "my_region = 'jp1'\n"
   ]
  },
  {
   "cell_type": "code",
   "execution_count": 9,
   "metadata": {},
   "outputs": [],
   "source": [
    "import time"
   ]
  },
  {
   "cell_type": "code",
   "execution_count": 14,
   "metadata": {},
   "outputs": [
    {
     "name": "stdout",
     "output_type": "stream",
     "text": [
      "209525344\n"
     ]
    }
   ],
   "source": [
    "try:\n",
    "    match = watcher.match.by_id(my_region, 209525344)\n",
    "except:\n",
    "    print('error')\n",
    "else:\n",
    "    print(match['gameId'])\n"
   ]
  },
  {
   "cell_type": "markdown",
   "metadata": {},
   "source": [
    "マッチIDを1づつずらして探索したが、ほとんどヒットしない。"
   ]
  },
  {
   "cell_type": "code",
   "execution_count": 17,
   "metadata": {},
   "outputs": [
    {
     "name": "stdout",
     "output_type": "stream",
     "text": [
      "2\n",
      "3\n",
      "4\n",
      "5\n",
      "6\n",
      "7\n",
      "8\n",
      "9\n",
      "10\n",
      "11\n",
      "12\n",
      "13\n",
      "14\n",
      "15\n",
      "16\n",
      "17\n",
      "18\n",
      "19\n",
      "20\n",
      "21\n",
      "22\n",
      "23\n",
      "24\n",
      "25\n",
      "26\n",
      "27\n",
      "28\n",
      "29\n",
      "30\n",
      "31\n",
      "32\n",
      "33\n",
      "34\n",
      "35\n",
      "36\n",
      "37\n",
      "38\n",
      "39\n",
      "40\n",
      "41\n",
      "42\n",
      "43\n",
      "44\n",
      "45\n",
      "46\n",
      "47\n",
      "48\n",
      "49\n",
      "50\n",
      "51\n",
      "52\n",
      "53\n",
      "54\n",
      "55\n",
      "56\n",
      "57\n",
      "58\n",
      "59\n",
      "60\n",
      "61\n",
      "62\n",
      "63\n",
      "64\n",
      "65\n",
      "66\n",
      "67\n",
      "68\n",
      "69\n",
      "70\n",
      "71\n",
      "72\n",
      "73\n",
      "74\n",
      "75\n",
      "76\n",
      "77\n",
      "78\n",
      "79\n",
      "80\n",
      "81\n",
      "82\n",
      "83\n",
      "84\n",
      "85\n",
      "86\n",
      "87\n",
      "88\n",
      "89\n",
      "90\n",
      "91\n",
      "92\n",
      "93\n",
      "94\n",
      "95\n",
      "96\n",
      "97\n",
      "98\n",
      "99\n",
      "[209525344, 209525345]\n"
     ]
    }
   ],
   "source": [
    "matchID = 209525344\n",
    "matchlist = []\n",
    "\n",
    "for i in range(100):    \n",
    "    try:\n",
    "        match = watcher.match.by_id(my_region, matchID)\n",
    "    except:\n",
    "        print(i)\n",
    "    else:\n",
    "        matchlist.append(match['gameId'])\n",
    "        matchID += 1\n",
    "        time.sleep(5)\n",
    "print(matchlist)"
   ]
  },
  {
   "cell_type": "code",
   "execution_count": 18,
   "metadata": {},
   "outputs": [
    {
     "name": "stdout",
     "output_type": "stream",
     "text": [
      "{'id': 'NQAyxwwyHGEWmKs8ta9I0yy-GIM4KdjjMw_GAIcqEDbBYA', 'accountId': 'nZjfvmzwwE4NjtyLG42CZtfubERameu6owhNIgNWZgs3oSo', 'puuid': '4fS6lZS6nQQi9jM-KVCSmcJ7sVN86jQ3LW8dXoFyq4JYh_FFFBqOWvymEjlV59DU7zUN3TDR34ZNMA', 'name': 'riyokuhi', 'profileIconId': 4352, 'revisionDate': 1570452788000, 'summonerLevel': 167}\n"
     ]
    }
   ],
   "source": [
    "my_region = 'jp1'\n",
    "summoner = 'riyokuhi'\n",
    "me = watcher.summoner.by_name(my_region, summoner)\n",
    "print(me)"
   ]
  },
  {
   "cell_type": "code",
   "execution_count": 19,
   "metadata": {
    "scrolled": false
   },
   "outputs": [
    {
     "name": "stdout",
     "output_type": "stream",
     "text": [
      "[{'platformId': 'JP1', 'gameId': 209525344, 'champion': 164, 'queue': 420, 'season': 13, 'timestamp': 1570450879154, 'role': 'DUO', 'lane': 'TOP'}, {'platformId': 'JP1', 'gameId': 209534421, 'champion': 164, 'queue': 420, 'season': 13, 'timestamp': 1570448964476, 'role': 'SOLO', 'lane': 'TOP'}, {'platformId': 'JP1', 'gameId': 209543760, 'champion': 164, 'queue': 420, 'season': 13, 'timestamp': 1570447208728, 'role': 'SOLO', 'lane': 'TOP'}, {'platformId': 'JP1', 'gameId': 209491569, 'champion': 51, 'queue': 420, 'season': 13, 'timestamp': 1570372235304, 'role': 'DUO_CARRY', 'lane': 'BOTTOM'}, {'platformId': 'JP1', 'gameId': 209478655, 'champion': 145, 'queue': 420, 'season': 13, 'timestamp': 1570367109798, 'role': 'DUO_CARRY', 'lane': 'BOTTOM'}, {'platformId': 'JP1', 'gameId': 209487658, 'champion': 22, 'queue': 420, 'season': 13, 'timestamp': 1570365574570, 'role': 'DUO_SUPPORT', 'lane': 'NONE'}, {'platformId': 'JP1', 'gameId': 209476210, 'champion': 164, 'queue': 420, 'season': 13, 'timestamp': 1570362531801, 'role': 'SOLO', 'lane': 'TOP'}, {'platformId': 'JP1', 'gameId': 209404718, 'champion': 145, 'queue': 420, 'season': 13, 'timestamp': 1570285418043, 'role': 'DUO_CARRY', 'lane': 'BOTTOM'}, {'platformId': 'JP1', 'gameId': 209413345, 'champion': 89, 'queue': 420, 'season': 13, 'timestamp': 1570283355338, 'role': 'DUO_SUPPORT', 'lane': 'BOTTOM'}, {'platformId': 'JP1', 'gameId': 209422512, 'champion': 145, 'queue': 420, 'season': 13, 'timestamp': 1570281999567, 'role': 'DUO', 'lane': 'NONE'}, {'platformId': 'JP1', 'gameId': 209401137, 'champion': 164, 'queue': 420, 'season': 13, 'timestamp': 1570278871785, 'role': 'SOLO', 'lane': 'TOP'}, {'platformId': 'JP1', 'gameId': 209410254, 'champion': 80, 'queue': 420, 'season': 13, 'timestamp': 1570277229550, 'role': 'DUO_SUPPORT', 'lane': 'NONE'}, {'platformId': 'JP1', 'gameId': 209369934, 'champion': 164, 'queue': 850, 'season': 13, 'timestamp': 1570245012137, 'role': 'DUO_SUPPORT', 'lane': 'NONE'}, {'platformId': 'JP1', 'gameId': 209281077, 'champion': 80, 'queue': 430, 'season': 13, 'timestamp': 1570106135780, 'role': 'SOLO', 'lane': 'TOP'}, {'platformId': 'JP1', 'gameId': 209279758, 'champion': 80, 'queue': 430, 'season': 13, 'timestamp': 1570103943853, 'role': 'SOLO', 'lane': 'TOP'}, {'platformId': 'JP1', 'gameId': 209259906, 'champion': 80, 'queue': 430, 'season': 13, 'timestamp': 1570103514597, 'role': 'DUO', 'lane': 'NONE'}, {'platformId': 'JP1', 'gameId': 209210071, 'champion': 164, 'queue': 430, 'season': 13, 'timestamp': 1569938740853, 'role': 'SOLO', 'lane': 'TOP'}, {'platformId': 'JP1', 'gameId': 209087907, 'champion': 134, 'queue': 430, 'season': 13, 'timestamp': 1569934745713, 'role': 'SOLO', 'lane': 'MID'}, {'platformId': 'JP1', 'gameId': 209029004, 'champion': 18, 'queue': 430, 'season': 13, 'timestamp': 1569845815454, 'role': 'DUO_CARRY', 'lane': 'BOTTOM'}, {'platformId': 'JP1', 'gameId': 208974526, 'champion': 18, 'queue': 430, 'season': 13, 'timestamp': 1569764588874, 'role': 'DUO_CARRY', 'lane': 'BOTTOM'}, {'platformId': 'JP1', 'gameId': 208967125, 'champion': 80, 'queue': 430, 'season': 13, 'timestamp': 1569748384911, 'role': 'NONE', 'lane': 'JUNGLE'}, {'platformId': 'JP1', 'gameId': 208964028, 'champion': 59, 'queue': 430, 'season': 13, 'timestamp': 1569740353680, 'role': 'NONE', 'lane': 'JUNGLE'}, {'platformId': 'JP1', 'gameId': 208963255, 'champion': 80, 'queue': 430, 'season': 13, 'timestamp': 1569738333100, 'role': 'SOLO', 'lane': 'TOP'}, {'platformId': 'JP1', 'gameId': 208938460, 'champion': 96, 'queue': 430, 'season': 13, 'timestamp': 1569719149158, 'role': 'DUO_CARRY', 'lane': 'BOTTOM'}, {'platformId': 'JP1', 'gameId': 208910017, 'champion': 80, 'queue': 850, 'season': 13, 'timestamp': 1569681058794, 'role': 'DUO_SUPPORT', 'lane': 'NONE'}, {'platformId': 'JP1', 'gameId': 208897888, 'champion': 51, 'queue': 420, 'season': 13, 'timestamp': 1569677649049, 'role': 'DUO_CARRY', 'lane': 'BOTTOM'}, {'platformId': 'JP1', 'gameId': 208886963, 'champion': 21, 'queue': 420, 'season': 13, 'timestamp': 1569676086757, 'role': 'DUO_CARRY', 'lane': 'BOTTOM'}, {'platformId': 'JP1', 'gameId': 208857827, 'champion': 51, 'queue': 420, 'season': 13, 'timestamp': 1569650895684, 'role': 'DUO_CARRY', 'lane': 'BOTTOM'}, {'platformId': 'JP1', 'gameId': 208857215, 'champion': 21, 'queue': 420, 'season': 13, 'timestamp': 1569648777439, 'role': 'DUO_CARRY', 'lane': 'BOTTOM'}, {'platformId': 'JP1', 'gameId': 208864610, 'champion': 51, 'queue': 420, 'season': 13, 'timestamp': 1569637620587, 'role': 'SOLO', 'lane': 'BOTTOM'}, {'platformId': 'JP1', 'gameId': 208776146, 'champion': 51, 'queue': 420, 'season': 13, 'timestamp': 1569503848009, 'role': 'DUO_CARRY', 'lane': 'BOTTOM'}, {'platformId': 'JP1', 'gameId': 208783621, 'champion': 51, 'queue': 420, 'season': 13, 'timestamp': 1569498124117, 'role': 'DUO_CARRY', 'lane': 'BOTTOM'}, {'platformId': 'JP1', 'gameId': 208762809, 'champion': 89, 'queue': 420, 'season': 13, 'timestamp': 1569495804669, 'role': 'DUO_SUPPORT', 'lane': 'BOTTOM'}, {'platformId': 'JP1', 'gameId': 208751648, 'champion': 145, 'queue': 420, 'season': 13, 'timestamp': 1569421710138, 'role': 'DUO_CARRY', 'lane': 'BOTTOM'}, {'platformId': 'JP1', 'gameId': 208717690, 'champion': 51, 'queue': 420, 'season': 13, 'timestamp': 1569413681424, 'role': 'DUO_CARRY', 'lane': 'BOTTOM'}, {'platformId': 'JP1', 'gameId': 208555379, 'champion': 21, 'queue': 420, 'season': 13, 'timestamp': 1569332164057, 'role': 'DUO_CARRY', 'lane': 'BOTTOM'}, {'platformId': 'JP1', 'gameId': 208396520, 'champion': 145, 'queue': 420, 'season': 13, 'timestamp': 1569240736898, 'role': 'DUO_CARRY', 'lane': 'BOTTOM'}, {'platformId': 'JP1', 'gameId': 208385419, 'champion': 21, 'queue': 420, 'season': 13, 'timestamp': 1569238174975, 'role': 'DUO_CARRY', 'lane': 'BOTTOM'}, {'platformId': 'JP1', 'gameId': 208393733, 'champion': 51, 'queue': 420, 'season': 13, 'timestamp': 1569233646658, 'role': 'DUO_CARRY', 'lane': 'BOTTOM'}, {'platformId': 'JP1', 'gameId': 208392102, 'champion': 89, 'queue': 420, 'season': 13, 'timestamp': 1569228506259, 'role': 'DUO_SUPPORT', 'lane': 'BOTTOM'}, {'platformId': 'JP1', 'gameId': 208401246, 'champion': 51, 'queue': 420, 'season': 13, 'timestamp': 1569227109509, 'role': 'DUO', 'lane': 'NONE'}, {'platformId': 'JP1', 'gameId': 208374845, 'champion': 21, 'queue': 420, 'season': 13, 'timestamp': 1569201728264, 'role': 'DUO_CARRY', 'lane': 'BOTTOM'}, {'platformId': 'JP1', 'gameId': 208355248, 'champion': 145, 'queue': 420, 'season': 13, 'timestamp': 1569200498078, 'role': 'DUO_SUPPORT', 'lane': 'NONE'}, {'platformId': 'JP1', 'gameId': 208354945, 'champion': 145, 'queue': 420, 'season': 13, 'timestamp': 1569197587221, 'role': 'DUO_CARRY', 'lane': 'BOTTOM'}, {'platformId': 'JP1', 'gameId': 208354505, 'champion': 145, 'queue': 420, 'season': 13, 'timestamp': 1569191484016, 'role': 'DUO_CARRY', 'lane': 'BOTTOM'}, {'platformId': 'JP1', 'gameId': 208349575, 'champion': 145, 'queue': 420, 'season': 13, 'timestamp': 1569167826722, 'role': 'DUO_CARRY', 'lane': 'BOTTOM'}, {'platformId': 'JP1', 'gameId': 208329368, 'champion': 145, 'queue': 420, 'season': 13, 'timestamp': 1569166038459, 'role': 'DUO_CARRY', 'lane': 'BOTTOM'}, {'platformId': 'JP1', 'gameId': 208347986, 'champion': 21, 'queue': 420, 'season': 13, 'timestamp': 1569164459222, 'role': 'DUO_SUPPORT', 'lane': 'NONE'}, {'platformId': 'JP1', 'gameId': 208342728, 'champion': 145, 'queue': 420, 'season': 13, 'timestamp': 1569154446344, 'role': 'DUO_CARRY', 'lane': 'BOTTOM'}, {'platformId': 'JP1', 'gameId': 208341555, 'champion': 145, 'queue': 420, 'season': 13, 'timestamp': 1569151824301, 'role': 'DUO_CARRY', 'lane': 'BOTTOM'}, {'platformId': 'JP1', 'gameId': 208340789, 'champion': 145, 'queue': 420, 'season': 13, 'timestamp': 1569149805820, 'role': 'DUO_CARRY', 'lane': 'BOTTOM'}, {'platformId': 'JP1', 'gameId': 208294608, 'champion': 113, 'queue': 420, 'season': 13, 'timestamp': 1569130341155, 'role': 'DUO_SUPPORT', 'lane': 'NONE'}, {'platformId': 'JP1', 'gameId': 208313490, 'champion': 145, 'queue': 420, 'season': 13, 'timestamp': 1569128109004, 'role': 'DUO_CARRY', 'lane': 'BOTTOM'}, {'platformId': 'JP1', 'gameId': 208283723, 'champion': 21, 'queue': 420, 'season': 13, 'timestamp': 1569078472808, 'role': 'SOLO', 'lane': 'BOTTOM'}, {'platformId': 'JP1', 'gameId': 208262092, 'champion': 145, 'queue': 420, 'season': 13, 'timestamp': 1569074955203, 'role': 'DUO', 'lane': 'MID'}, {'platformId': 'JP1', 'gameId': 208270925, 'champion': 145, 'queue': 420, 'season': 13, 'timestamp': 1569072768684, 'role': 'DUO_CARRY', 'lane': 'BOTTOM'}, {'platformId': 'JP1', 'gameId': 208238470, 'champion': 145, 'queue': 420, 'season': 13, 'timestamp': 1569067761318, 'role': 'DUO_CARRY', 'lane': 'BOTTOM'}, {'platformId': 'JP1', 'gameId': 208247745, 'champion': 145, 'queue': 420, 'season': 13, 'timestamp': 1569065965182, 'role': 'DUO_CARRY', 'lane': 'BOTTOM'}, {'platformId': 'JP1', 'gameId': 208247170, 'champion': 21, 'queue': 420, 'season': 13, 'timestamp': 1569064391635, 'role': 'DUO_CARRY', 'lane': 'BOTTOM'}, {'platformId': 'JP1', 'gameId': 208202420, 'champion': 145, 'queue': 420, 'season': 13, 'timestamp': 1568994174926, 'role': 'NONE', 'lane': 'JUNGLE'}, {'platformId': 'JP1', 'gameId': 208211634, 'champion': 21, 'queue': 420, 'season': 13, 'timestamp': 1568992643282, 'role': 'DUO', 'lane': 'NONE'}, {'platformId': 'JP1', 'gameId': 208200728, 'champion': 40, 'queue': 420, 'season': 13, 'timestamp': 1568990739745, 'role': 'DUO_SUPPORT', 'lane': 'BOTTOM'}, {'platformId': 'JP1', 'gameId': 208176274, 'champion': 21, 'queue': 420, 'season': 13, 'timestamp': 1568981745366, 'role': 'DUO_CARRY', 'lane': 'BOTTOM'}, {'platformId': 'JP1', 'gameId': 208163228, 'champion': 21, 'queue': 420, 'season': 13, 'timestamp': 1568902726006, 'role': 'DUO_CARRY', 'lane': 'BOTTOM'}, {'platformId': 'JP1', 'gameId': 208129146, 'champion': 21, 'queue': 420, 'season': 13, 'timestamp': 1568893854529, 'role': 'DUO_CARRY', 'lane': 'BOTTOM'}, {'platformId': 'JP1', 'gameId': 208106744, 'champion': 145, 'queue': 420, 'season': 13, 'timestamp': 1568816973196, 'role': 'DUO_CARRY', 'lane': 'BOTTOM'}, {'platformId': 'JP1', 'gameId': 208085856, 'champion': 21, 'queue': 420, 'season': 13, 'timestamp': 1568814725595, 'role': 'DUO_CARRY', 'lane': 'BOTTOM'}, {'platformId': 'JP1', 'gameId': 208083160, 'champion': 21, 'queue': 420, 'season': 13, 'timestamp': 1568809418631, 'role': 'DUO_CARRY', 'lane': 'BOTTOM'}, {'platformId': 'JP1', 'gameId': 207976716, 'champion': 145, 'queue': 420, 'season': 13, 'timestamp': 1568725797463, 'role': 'DUO_CARRY', 'lane': 'BOTTOM'}, {'platformId': 'JP1', 'gameId': 207956045, 'champion': 21, 'queue': 420, 'season': 13, 'timestamp': 1568724308452, 'role': 'DUO_SUPPORT', 'lane': 'NONE'}, {'platformId': 'JP1', 'gameId': 207913009, 'champion': 21, 'queue': 420, 'season': 13, 'timestamp': 1568645964113, 'role': 'DUO_CARRY', 'lane': 'BOTTOM'}, {'platformId': 'JP1', 'gameId': 207889362, 'champion': 21, 'queue': 420, 'season': 13, 'timestamp': 1568638547186, 'role': 'DUO_CARRY', 'lane': 'BOTTOM'}, {'platformId': 'JP1', 'gameId': 207841466, 'champion': 89, 'queue': 420, 'season': 13, 'timestamp': 1568558824000, 'role': 'DUO_SUPPORT', 'lane': 'BOTTOM'}, {'platformId': 'JP1', 'gameId': 207803251, 'champion': 145, 'queue': 420, 'season': 13, 'timestamp': 1568538065267, 'role': 'DUO_CARRY', 'lane': 'BOTTOM'}, {'platformId': 'JP1', 'gameId': 207812387, 'champion': 145, 'queue': 420, 'season': 13, 'timestamp': 1568535753685, 'role': 'DUO_CARRY', 'lane': 'BOTTOM'}, {'platformId': 'JP1', 'gameId': 207801739, 'champion': 21, 'queue': 420, 'season': 13, 'timestamp': 1568533475501, 'role': 'DUO_CARRY', 'lane': 'BOTTOM'}, {'platformId': 'JP1', 'gameId': 207801257, 'champion': 145, 'queue': 420, 'season': 13, 'timestamp': 1568532150266, 'role': 'DUO_SUPPORT', 'lane': 'NONE'}, {'platformId': 'JP1', 'gameId': 207810637, 'champion': 21, 'queue': 420, 'season': 13, 'timestamp': 1568530412405, 'role': 'DUO_CARRY', 'lane': 'BOTTOM'}, {'platformId': 'JP1', 'gameId': 207776555, 'champion': 89, 'queue': 420, 'season': 13, 'timestamp': 1568514700990, 'role': 'DUO_SUPPORT', 'lane': 'BOTTOM'}, {'platformId': 'JP1', 'gameId': 207796070, 'champion': 145, 'queue': 420, 'season': 13, 'timestamp': 1568512697056, 'role': 'DUO_CARRY', 'lane': 'BOTTOM'}, {'platformId': 'JP1', 'gameId': 207795787, 'champion': 21, 'queue': 420, 'season': 13, 'timestamp': 1568510894120, 'role': 'DUO_CARRY', 'lane': 'MID'}, {'platformId': 'JP1', 'gameId': 207769815, 'champion': 89, 'queue': 420, 'season': 13, 'timestamp': 1568475906688, 'role': 'DUO_SUPPORT', 'lane': 'BOTTOM'}, {'platformId': 'JP1', 'gameId': 207747759, 'champion': 117, 'queue': 450, 'season': 13, 'timestamp': 1568471046294, 'role': 'DUO_SUPPORT', 'lane': 'MID'}, {'platformId': 'JP1', 'gameId': 207756008, 'champion': 89, 'queue': 450, 'season': 13, 'timestamp': 1568467859830, 'role': 'DUO_SUPPORT', 'lane': 'NONE'}, {'platformId': 'JP1', 'gameId': 207764616, 'champion': 145, 'queue': 420, 'season': 13, 'timestamp': 1568465532389, 'role': 'DUO_CARRY', 'lane': 'BOTTOM'}, {'platformId': 'JP1', 'gameId': 207754000, 'champion': 222, 'queue': 420, 'season': 13, 'timestamp': 1568463633815, 'role': 'DUO_CARRY', 'lane': 'BOTTOM'}, {'platformId': 'JP1', 'gameId': 207753176, 'champion': 145, 'queue': 420, 'season': 13, 'timestamp': 1568461622136, 'role': 'DUO_CARRY', 'lane': 'BOTTOM'}, {'platformId': 'JP1', 'gameId': 207719781, 'champion': 145, 'queue': 420, 'season': 13, 'timestamp': 1568449853816, 'role': 'DUO_CARRY', 'lane': 'BOTTOM'}, {'platformId': 'JP1', 'gameId': 207686156, 'champion': 21, 'queue': 420, 'season': 13, 'timestamp': 1568385253865, 'role': 'SOLO', 'lane': 'BOTTOM'}, {'platformId': 'JP1', 'gameId': 207692678, 'champion': 21, 'queue': 420, 'season': 13, 'timestamp': 1568378601043, 'role': 'DUO_CARRY', 'lane': 'BOTTOM'}, {'platformId': 'JP1', 'gameId': 207681935, 'champion': 21, 'queue': 420, 'season': 13, 'timestamp': 1568376704722, 'role': 'DUO_SUPPORT', 'lane': 'NONE'}, {'platformId': 'JP1', 'gameId': 207628500, 'champion': 21, 'queue': 420, 'season': 13, 'timestamp': 1568297913937, 'role': 'DUO_CARRY', 'lane': 'BOTTOM'}, {'platformId': 'JP1', 'gameId': 207635643, 'champion': 21, 'queue': 420, 'season': 13, 'timestamp': 1568291910887, 'role': 'DUO', 'lane': 'MID'}, {'platformId': 'JP1', 'gameId': 207624336, 'champion': 21, 'queue': 420, 'season': 13, 'timestamp': 1568288957819, 'role': 'DUO_CARRY', 'lane': 'BOTTOM'}, {'platformId': 'JP1', 'gameId': 207587782, 'champion': 21, 'queue': 420, 'season': 13, 'timestamp': 1568203472637, 'role': 'DUO_CARRY', 'lane': 'BOTTOM'}, {'platformId': 'JP1', 'gameId': 207567294, 'champion': 21, 'queue': 420, 'season': 13, 'timestamp': 1568202020068, 'role': 'DUO_SUPPORT', 'lane': 'NONE'}, {'platformId': 'JP1', 'gameId': 207566572, 'champion': 145, 'queue': 420, 'season': 13, 'timestamp': 1568199936180, 'role': 'NONE', 'lane': 'JUNGLE'}, {'platformId': 'JP1', 'gameId': 207583863, 'champion': 89, 'queue': 420, 'season': 13, 'timestamp': 1568188564194, 'role': 'DUO_SUPPORT', 'lane': 'BOTTOM'}, {'platformId': 'JP1', 'gameId': 207583380, 'champion': 145, 'queue': 420, 'season': 13, 'timestamp': 1568186072629, 'role': 'DUO_CARRY', 'lane': 'BOTTOM'}, {'platformId': 'JP1', 'gameId': 207483027, 'champion': 145, 'queue': 420, 'season': 13, 'timestamp': 1568183683389, 'role': 'DUO_CARRY', 'lane': 'BOTTOM'}]\n"
     ]
    }
   ],
   "source": [
    "recentmatchlists = watcher.match.matchlist_by_account(my_region,me['accountId'])\n",
    "matches = recentmatchlists['matches']\n",
    "print(matches)"
   ]
  },
  {
   "cell_type": "markdown",
   "metadata": {},
   "source": [
    "自分の戦績のうちランク戦のゲームIDのみ抽出"
   ]
  },
  {
   "cell_type": "code",
   "execution_count": 24,
   "metadata": {},
   "outputs": [
    {
     "name": "stdout",
     "output_type": "stream",
     "text": [
      "[209525344, 209534421, 209543760, 209491569, 209478655, 209487658, 209476210, 209404718, 209413345, 209422512, 209401137, 209410254, 208897888, 208886963, 208857827, 208857215, 208864610, 208776146, 208783621, 208762809, 208751648, 208717690, 208555379, 208396520, 208385419, 208393733, 208392102, 208401246, 208374845, 208355248, 208354945, 208354505, 208349575, 208329368, 208347986, 208342728, 208341555, 208340789, 208294608, 208313490, 208283723, 208262092, 208270925, 208238470, 208247745, 208247170, 208202420, 208211634, 208200728, 208176274, 208163228, 208129146, 208106744, 208085856, 208083160, 207976716, 207956045, 207913009, 207889362, 207841466, 207803251, 207812387, 207801739, 207801257, 207810637, 207776555, 207796070, 207795787, 207769815, 207764616, 207754000, 207753176, 207719781, 207686156, 207692678, 207681935, 207628500, 207635643, 207624336, 207587782, 207567294, 207566572, 207583863, 207583380, 207483027]\n"
     ]
    }
   ],
   "source": [
    "gamelist=[]\n",
    "\n",
    "\n",
    "for i in range(len(matches)):\n",
    "    queue = recentmatchlists['matches'][i]['queue']\n",
    "    if queue == 420:\n",
    "        game = recentmatchlists['matches'][i]['gameId']\n",
    "        gamelist.append(game)\n",
    "    \n",
    "print(gamelist)"
   ]
  },
  {
   "cell_type": "markdown",
   "metadata": {},
   "source": [
    "作成したランク戦のゲームIDからユーザーリストを作成"
   ]
  },
  {
   "cell_type": "code",
   "execution_count": 30,
   "metadata": {},
   "outputs": [
    {
     "name": "stdout",
     "output_type": "stream",
     "text": [
      "{'woYxiSQ6d-6oDCL6ZHByiGsDy6pmHGZfj4tAE4rGKUczh34', 'NdsbTgIHo3uxPqzPZ0Cv6zM7IYvZ6FxgvfzlNB1pYT0rHH4', 'ytBt-fIt9rrUVI4bPurwiHLBxah-UkdqBQmFRhxR76VKMbURPUZV0PxK', 'riDgL18GdZHmQG8y5mZa9AG7HEGxHdTWLk1rtZLvMqzEMSw', 'J35fO3N5080OZMePrlUA2UXYHzpq2hMWblTNE56sTu0Sdkg', 'cqFL_97LWkyPQujRWWb4bn7xI_biv2GsBK_Cg-uF4ATsuCg', 'Prhz25KtOrtOYIktmWIeXR8a1M3Fk-iBbfD8kjbn_0yDbzU', 'lrI35uJ-xPwCi3D42ilpzmTbgE_3y7jtePjPshxwbwn9jL0', 'vxJdbkMrZ4ppyn5jtxCoDatnaHyTQzO9UtZWKwh0voOhS9E', 'Ua93FHrm2S2rv5lDjirifaIIcOe_OdFSb___YbX2ffx-oppRyoV7oD7o', 'xHRR7ESNKSuD-nl9H2NeHAcvsygLXHthcncKRdI7f6N52WE', 'CY3pityyw6MzU7KBrkxKjgnBJDT6K8ET7CPlYZqpMx7WTmw', 'PYqq1XZ15COo-Uc37qntSD9nTH-hz1hW78WFQMWoecHHpL0', 'bpTqi5TFx5y1MpqPTdoY1YfXMbJAqcBkPK8N-YA62Jj8qoY', '43mBrZTE-3NK7gPrthH9UO4bdUOoJ6CyXkJzVnzHtaSmgx8', 'njT6qdqIhMRLoxNNZsyD1WTY0FYFLgnfSVIERZlvzzBvHtH7zZQB0j4E', '0B8sXHma5r1s5Qv66tIC7Ud2b13x8f_urcj9kYAbZPVekLk', '75bI1FfUAx3PRS_PmxuaVdpWvGJtv-L7tq7A9DxLURcN91Y', '07oKJAe_8rawXIvnbq5kJ9LJvPSIlacHHDtAwQb0U6Bw-mQ', 'zVHSsxnAJdzd20UJkwKarz_IGpYZyat6Ufp-mm8TY9YF86g', 'V9jD44EvkxnqF8mXDQ4ym3mUutIm4ab_Odx-EClvPxEGzP0', 'AUfhrch5BMR7op4kQVV4VSApb41738ME_8jfzUh-y6ZTPe0', '6s0cMfiSDp0Nd7u7AzgQmgy786b9yE_P3yxzA7Pm6lWT2Js', 'G-3OhE_NrmVx6yi-8g6zHbqFEghRvPHvESWbWXXgwA0PY9M', 'j5Xh7eT1DiQTq47_s_5jN06-Qww7UEcY68TnVLY_K5hrBJc5utkjlWA-', 'Rv7ZrEpaHWqKwn7J6k2eePfwETReOb23b1wF7KwYmiAFv-8', 'blwjXSyZMb8atPl6pecKISwfiaoxjZu6R1PHjumblAEsQ109XTI1l9PI', 'qqXx0DXN5OZiQ1rvqIFMPwTgVEqLf1ZsCJ_PDXfEu08Efv8', '70RR64BoM4AxcIVuBnfnDmSB28ncHeUQa82BYJlAppRirZF_QwRFLLcq', '3keG5Sv3oWxCmcoTLDGqbR0mWs7KXDNbKc0XpD6HxyD5bdQ', '1R76XQHdxnh8vhHe9c2VlM24IAUM2sNM0gBeFhjQ2WCjyFL74ADViuIO', 'jHgYjwrBcf0grLrhpGt1xFTQrZMbcmxoX0peh3nLcikCOvo', '3_0E1-4pyn6Jw8gIk7Y31Wf53J4jivoYpzsc7OOWWSMMnfw', '88Cc9VmmiHlHxkn6gD24bAC9weoFrkadDHL4HUqaGl55E0w', 'kGmL6w9xlhGgPzh3ynEFnLH9BTBzrUP0LFxYILvoTZjKUxg', 'uPE8-O_EAQkientKl6CSUFnYXN5A8NiJ57dJcRzAGJP8-bU', 'MonO4yrIELnWSL_qjiOIG8Iv_briAfWRu7szr_4tCa3ANP0', 'm2Ov-N3RDTyEdjEZTHsk4nrJxb2t5CCSZzxhen-JwLqtCgc', 'jhBtLQhaNu_IKhd7DvbOrESzmVfh4xAw1fEJnnHmhYzD5do', 'aXKerLkhmT4W0tmXN_6HDiaZwCsrDY9sgPLHV6OAMtHsNjk', 'J9KGmt7JCvugXo5L7Ry15ifTsiZQY6FsVYW594MygeDcvDs', 'BLYqreQfUp-OgF9OTIeB3y892ryhMIQaHV7nz7wCeXeGLwa5EAFCOYEc', 'aeczQENLQaci-HfEyoFx7txjV65TSnrnWaormG6ZI85Y5v8', 'MPpuMD8DiH2eo9n9P65L3oNoD1Fn3V0Ydr4MJHiwZVU-uF0', 'kiR-Vy3xaSsjRla_Rdc71lyZ-Q3ihb-_wnsb87PZDgoRBc8', 'q-nQQQ9vm-T-ThTRHxT7yomh2iASofDRrJBxYQKNvJTg4kU', '0bEAJfeS_qBEKCu_UZEF-DUTjnpXvSyoYD1-MKZ8ZeltHZI', 'Kkl0He824XxxWXL6eo2BR8GLvGu66oCJQT_KxkpMsic8XKs', '6n4EdnmTxsfpfF3BcmF6u5hq22vLQRSWV-vhh_mL0GOHugE', '7UM9rTtLBYouQyyCO-HL_gVSEYbPrPvCcbT4_GHmKZZZ1xM', 'WVnMdpaS7AH1LvjyDvsFmP_KqfyVdtPKW2OTO3JNwj2-7KXnbfFfmjnG', 'HtWW73-j6xv6akwsNXJ4KZpNw7n_YrpllOmUmPgsSm9K2Z2qoR-YRbN4', 'c0PQpwhN78UlbOxF3oZ1BofDoDlqBbwGxjxg6JyeeCGLpG4', 'uqejSDaBoI9iqcQ5t1cYSh4RnIePCxtSzqkL9llI-mC530JLgS7_T0m6', 'JnrSi-hoz45gadtfctrpf4Mw7AZi4qYmSTnDmdkT-CD6xaodqL6_OI_v', 'xygT84Eq1Mg8ufrwYLop4FcKf6oU7hCZpjZxJhWAAE1xtkw', 'x88_BS6MrRdBa68YSU1rnjQx5jh_20lgEXcapG2EVYeoKfY', 'Z2uVn0J_GcNc46E9k8cM9KjJQ37hyDkl_KPUeVhJhcGpOVQ', 'fBwn4H5KhJzBpjdJFlm8xbbxvAHguZGLCE-NctuB-KEAFPs', 'rYs7aQbzh8ZbdXLE6K0bsPNyCRFj0BmLyC8eQGrT--fky7CCAAsiwkGz', 'G85U2iykeAbKIXluhdBKhnmE7QDKA5W7Uh23ye2qea9VIp5I7iQ03rXy', 'mxgMLQ3ovnVJiSAhPDVql4JbEpvc_2rDdRY3yraoY8d6iVI', 'yizLTCwLUCxPBh18Gp2JZkw3af-JQqvbCTK_b9biqVy49oI', 'm7uM0W3oci3MekjItR0MR7W7eTFTtg2x1ilOpdUlB3yDoC0GSiEBt6L-', 'PKtMW5e_bw5OeBUz39o8-4GrdEu3F4cLkbZvioWk5Ry-EF0', 'uJL6HgvyotJCzoSOY2ovrK4hbgeNib-yeNePg2FMS6KKrfY', 'LMc-dZ7xwY63E3KxKLCcHPPO6n3F6UqOYrvjRBWCbb7rcyc', '-v-4zafCFGOQKOXAhmzju8r99UIO9iGIr2nAjhGuRbVY5A0', '74ZNo6fWN8lMdjGC_W0hY6-J4ubmXKPG8aV6P-oCjpAdW_Y', 'zXmkHRYGK_eWLFRGDn3PgCzsxZ4HIjmr0S6y38sEuSShEa8', 'ycDu_drXn2xwWuSZrbkDUB4Sj44s-n0YvfLI2umW1frledQcw_qqzn-3', 'nZjfvmzwwE4NjtyLG42CZtfubERameu6owhNIgNWZgs3oSo'}\n"
     ]
    }
   ],
   "source": [
    "userIDlist =[]\n",
    "\n",
    "for i in gamelist:\n",
    "    match_detail = watcher.match.by_id(my_region, i)\n",
    "    for i in range(10):\n",
    "        userIDlist.append(match_detail['participantIdentities'][0]['player']['currentAccountId'])\n",
    "    time.sleep(1)\n",
    "userIDlist = set(userIDlist)\n",
    "print(userIDlist)"
   ]
  },
  {
   "cell_type": "code",
   "execution_count": 31,
   "metadata": {},
   "outputs": [
    {
     "data": {
      "text/plain": [
       "72"
      ]
     },
     "execution_count": 31,
     "metadata": {},
     "output_type": "execute_result"
    }
   ],
   "source": [
    "len(userIDlist)"
   ]
  },
  {
   "cell_type": "markdown",
   "metadata": {},
   "source": [
    "保存"
   ]
  },
  {
   "cell_type": "code",
   "execution_count": 33,
   "metadata": {},
   "outputs": [],
   "source": [
    "import pickle\n",
    "f = open('list.txt', 'wb')\n",
    "list_row = userIDlist\n",
    "pickle.dump(list_row, f)"
   ]
  },
  {
   "cell_type": "code",
   "execution_count": 34,
   "metadata": {},
   "outputs": [],
   "source": [
    "f = open(\"./list.txt\",\"rb\")\n",
    "list_a = pickle.load(f)"
   ]
  },
  {
   "cell_type": "markdown",
   "metadata": {},
   "source": [
    "72名のリストが手に入ったのでもう一回全ゲームIDを取得すれば数千ゲームのIDが手に入る？"
   ]
  },
  {
   "cell_type": "code",
   "execution_count": null,
   "metadata": {},
   "outputs": [],
   "source": []
  }
 ],
 "metadata": {
  "kernelspec": {
   "display_name": "Python 3",
   "language": "python",
   "name": "python3"
  },
  "language_info": {
   "codemirror_mode": {
    "name": "ipython",
    "version": 3
   },
   "file_extension": ".py",
   "mimetype": "text/x-python",
   "name": "python",
   "nbconvert_exporter": "python",
   "pygments_lexer": "ipython3",
   "version": "3.6.4"
  }
 },
 "nbformat": 4,
 "nbformat_minor": 2
}
